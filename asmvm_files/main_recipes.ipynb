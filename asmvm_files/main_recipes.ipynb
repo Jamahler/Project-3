{
 "cells": [
  {
   "cell_type": "code",
   "execution_count": 25,
   "metadata": {},
   "outputs": [],
   "source": [
    "import json, requests\n",
    "from pprint import pprint\n",
    "import pandas as pd\n",
    "from config import api_key\n",
    "import numpy as np\n",
    "import random"
   ]
  },
  {
   "cell_type": "code",
   "execution_count": 26,
   "metadata": {},
   "outputs": [
    {
     "data": {
      "text/plain": [
       "[110347, 139338, 100783, 10437, 165786]"
      ]
     },
     "execution_count": 26,
     "metadata": {},
     "output_type": "execute_result"
    }
   ],
   "source": [
    "recipe_num= [random.randrange(1,200000,1) for i in range(5)]\n",
    "recipe_num "
   ]
  },
  {
   "cell_type": "code",
   "execution_count": 27,
   "metadata": {},
   "outputs": [
    {
     "name": "stdout",
     "output_type": "stream",
     "text": [
      "110347\n",
      "139338\n",
      "100783\n",
      "10437\n",
      "165786\n"
     ]
    }
   ],
   "source": [
    "for num in recipe_num:\n",
    "    print(num)"
   ]
  },
  {
   "cell_type": "code",
   "execution_count": 28,
   "metadata": {},
   "outputs": [],
   "source": [
    "url_base = f\"https://api.spoonacular.com/recipes/\"\n",
    "url_tail = \"/information?includeNutrition=true\"\n",
    "key = f\"&apiKey={api_key}\"\n",
    "\n",
    "# recipe_query = f\"{url_base}{meal_id}{recipe_url_tail}&apiKey={key}\"\n",
    "\n",
    "s = requests.Session()\n",
    "# response = s.get(recipe_query).json()\n",
    "# response"
   ]
  },
  {
   "cell_type": "code",
   "execution_count": 29,
   "metadata": {},
   "outputs": [],
   "source": [
    "\n",
    "for num in recipe_num:\n",
    "    recipe_id = f'{num}'\n",
    "    response = s.get(url_base + recipe_id + url_tail + key).json() \n",
    "    response\n",
    "    \n",
    "    try:\n",
    "\n",
    "        data = {\"SpoonID\":response['id'],\n",
    "                \"Title\":response['title'],\n",
    "                \"PrepTime\":response['readyInMinutes'],\n",
    "                \"Summary\":response['summary'],\n",
    "                \"CaloricBrakdown\":response['nutrition']['caloricBreakdown'],\n",
    "                \"Servings\":response['servings'],\n",
    "                \"Likes\":response['aggregateLikes'],\n",
    "                \"SourceURL\":response['sourceURL'],\n",
    "                \"ImageURL\":response['image'],\n",
    "                \"WinePairing\":response['winePairing']['pairedWines'],\n",
    "                \"WineDescription\":response['winePairing']['pairingText']\n",
    "               }\n",
    "    except (KeyError, IndexError, ValueError):\n",
    "        data = {\"SpoonID\":\"none\",\n",
    "                \"Title\":\"none\",\n",
    "                \"PrepTime\":\"none\",\n",
    "                \"Summary\":\"none\",\n",
    "                \"CaloricBrakdown\":\"none\",\n",
    "                \"Servings\":\"none\",\n",
    "                \"Likes\":\"none\",\n",
    "                \"SourceURL\":\"none\",\n",
    "                \"ImageURL\":\"none\",\n",
    "                \"WinePairing\":\"none\",\n",
    "                \"WineDescription\":\"none\"\n",
    "                }\n",
    "   "
   ]
  },
  {
   "cell_type": "code",
   "execution_count": 30,
   "metadata": {},
   "outputs": [
    {
     "data": {
      "text/plain": [
       "{'SpoonID': 'none',\n",
       " 'Title': 'none',\n",
       " 'PrepTime': 'none',\n",
       " 'Summary': 'none',\n",
       " 'CaloricBrakdown': 'none',\n",
       " 'Servings': 'none',\n",
       " 'Likes': 'none',\n",
       " 'SourceURL': 'none',\n",
       " 'ImageURL': 'none',\n",
       " 'WinePairing': 'none',\n",
       " 'WineDescription': 'none'}"
      ]
     },
     "execution_count": 30,
     "metadata": {},
     "output_type": "execute_result"
    }
   ],
   "source": [
    "data"
   ]
  },
  {
   "cell_type": "code",
   "execution_count": null,
   "metadata": {},
   "outputs": [],
   "source": []
  }
 ],
 "metadata": {
  "kernelspec": {
   "display_name": "Python 3",
   "language": "python",
   "name": "python3"
  },
  "language_info": {
   "codemirror_mode": {
    "name": "ipython",
    "version": 3
   },
   "file_extension": ".py",
   "mimetype": "text/x-python",
   "name": "python",
   "nbconvert_exporter": "python",
   "pygments_lexer": "ipython3",
   "version": "3.7.6"
  }
 },
 "nbformat": 4,
 "nbformat_minor": 4
}
