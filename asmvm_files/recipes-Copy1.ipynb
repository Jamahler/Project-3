{
 "cells": [
  {
   "cell_type": "code",
   "execution_count": 7,
   "metadata": {},
   "outputs": [],
   "source": [
    "import json, requests\n",
    "from pprint import pprint\n",
    "import pandas as pd\n",
    "#from config import api_key\n",
    "import numpy as np\n",
    "import random\n",
    "\n",
    "api_key = \"1710a2cab6b2491eae1d09d79ada0a7a\""
   ]
  },
  {
   "cell_type": "code",
   "execution_count": 8,
   "metadata": {},
   "outputs": [
    {
     "name": "stdout",
     "output_type": "stream",
     "text": [
      "https://api.spoonacular.com/recipes/66135/information?includeNutrition=true&apiKey=1710a2cab6b2491eae1d09d79ada0a7a\n"
     ]
    }
   ],
   "source": [
    "recipe_base = f\"https://api.spoonacular.com/recipes/\"\n",
    "recipe_url_tail = \"/information?includeNutrition=true\"\n",
    "# recipe_url_base =f\"https://api.spoonacular.com/recipes/information?includeNutrition=true/\"\n",
    "recipe_id = \"66135\"\n",
    "recipe_query = f\"{recipe_base}{recipe_id}{recipe_url_tail}&apiKey={api_key}\"\n",
    "print(recipe_query)"
   ]
  },
  {
   "cell_type": "code",
   "execution_count": 9,
   "metadata": {},
   "outputs": [],
   "source": [
    "s = requests.Session()\n",
    "response = s.get(recipe_query).json()\n",
    "## pretty print the response \n",
    "\n",
    "# response"
   ]
  },
  {
   "cell_type": "code",
   "execution_count": 18,
   "metadata": {},
   "outputs": [
    {
     "data": {
      "text/plain": [
       "[79639, 79912, 124288, 98906, 51222]"
      ]
     },
     "execution_count": 18,
     "metadata": {},
     "output_type": "execute_result"
    }
   ],
   "source": [
    "random_num = [random.randrange(1,200000,1) for i in range(5)]\n",
    "random_num"
   ]
  },
  {
   "cell_type": "code",
   "execution_count": 19,
   "metadata": {},
   "outputs": [
    {
     "ename": "KeyError",
     "evalue": "'pairedWines'",
     "output_type": "error",
     "traceback": [
      "\u001b[1;31m---------------------------------------------------------------------------\u001b[0m",
      "\u001b[1;31mKeyError\u001b[0m                                  Traceback (most recent call last)",
      "\u001b[1;32m<ipython-input-19-e0d71b6ac46c>\u001b[0m in \u001b[0;36m<module>\u001b[1;34m\u001b[0m\n\u001b[0;32m     11\u001b[0m \u001b[0mprepTime\u001b[0m \u001b[1;33m=\u001b[0m \u001b[0mresponse\u001b[0m\u001b[1;33m[\u001b[0m\u001b[1;34m'readyInMinutes'\u001b[0m\u001b[1;33m]\u001b[0m\u001b[1;33m\u001b[0m\u001b[1;33m\u001b[0m\u001b[0m\n\u001b[0;32m     12\u001b[0m \u001b[0mimage\u001b[0m \u001b[1;33m=\u001b[0m \u001b[0mresponse\u001b[0m\u001b[1;33m[\u001b[0m\u001b[1;34m'image'\u001b[0m\u001b[1;33m]\u001b[0m\u001b[1;33m\u001b[0m\u001b[1;33m\u001b[0m\u001b[0m\n\u001b[1;32m---> 13\u001b[1;33m \u001b[0mpairedWine\u001b[0m \u001b[1;33m=\u001b[0m \u001b[0mresponse\u001b[0m\u001b[1;33m[\u001b[0m\u001b[1;34m'winePairing'\u001b[0m\u001b[1;33m]\u001b[0m\u001b[1;33m[\u001b[0m\u001b[1;34m'pairedWines'\u001b[0m\u001b[1;33m]\u001b[0m\u001b[1;33m\u001b[0m\u001b[1;33m\u001b[0m\u001b[0m\n\u001b[0m\u001b[0;32m     14\u001b[0m \u001b[0mpairingDesc\u001b[0m \u001b[1;33m=\u001b[0m \u001b[0mresponse\u001b[0m\u001b[1;33m[\u001b[0m\u001b[1;34m'winePairing'\u001b[0m\u001b[1;33m]\u001b[0m\u001b[1;33m[\u001b[0m\u001b[1;34m'pairingText'\u001b[0m\u001b[1;33m]\u001b[0m\u001b[1;33m\u001b[0m\u001b[1;33m\u001b[0m\u001b[0m\n\u001b[0;32m     15\u001b[0m \u001b[0mid_number\u001b[0m \u001b[1;33m=\u001b[0m \u001b[0mresponse\u001b[0m\u001b[1;33m[\u001b[0m\u001b[1;34m'id'\u001b[0m\u001b[1;33m]\u001b[0m\u001b[1;33m\u001b[0m\u001b[1;33m\u001b[0m\u001b[0m\n",
      "\u001b[1;31mKeyError\u001b[0m: 'pairedWines'"
     ]
    }
   ],
   "source": [
    "# ingredients = list(range(len(response['nutrition']['ingredients'])))\n",
    "# ingredients\n",
    "\n",
    "# for i in ingredients:\n",
    "#     names = response['nutrition']['ingredients'][i]['name']\n",
    "#     print(names)\n",
    "\n",
    "# Extract desired data from the stored json response \n",
    "summary = response['summary']\n",
    "title = response['title']\n",
    "prepTime = response['readyInMinutes']\n",
    "image = response['image']\n",
    "pairedWine = response['winePairing']['pairedWines']\n",
    "pairingDesc = response['winePairing']['pairingText']\n",
    "id_number = response['id']\n",
    "serving = response['servings']\n",
    "likes = response['aggregateLikes']\n",
    "sourceurl = response['sourceUrl']\n",
    "nutrition = response['nutrition']['caloricBreakdown']\n",
    "\n",
    "# food_names = response['nutrition']['ingredients'][i for i in ingredients]['name']"
   ]
  },
  {
   "cell_type": "code",
   "execution_count": 37,
   "metadata": {},
   "outputs": [
    {
     "name": "stdout",
     "output_type": "stream",
     "text": [
      "['vegetarian',\n",
      " 'vegan',\n",
      " 'glutenFree',\n",
      " 'dairyFree',\n",
      " 'veryHealthy',\n",
      " 'cheap',\n",
      " 'veryPopular',\n",
      " 'sustainable',\n",
      " 'weightWatcherSmartPoints',\n",
      " 'gaps',\n",
      " 'lowFodmap',\n",
      " 'aggregateLikes',\n",
      " 'spoonacularScore',\n",
      " 'healthScore',\n",
      " 'creditsText',\n",
      " 'sourceName',\n",
      " 'pricePerServing',\n",
      " 'extendedIngredients',\n",
      " 'id',\n",
      " 'title',\n",
      " 'readyInMinutes',\n",
      " 'servings',\n",
      " 'sourceUrl',\n",
      " 'image',\n",
      " 'imageType',\n",
      " 'nutrition',\n",
      " 'summary',\n",
      " 'cuisines',\n",
      " 'dishTypes',\n",
      " 'diets',\n",
      " 'occasions',\n",
      " 'winePairing',\n",
      " 'instructions',\n",
      " 'analyzedInstructions',\n",
      " 'originalId']\n"
     ]
    }
   ],
   "source": [
    "url_base = f\"https://api.spoonacular.com/recipes/\"\n",
    "url_tail = \"/information?includeNutrition=true\"\n",
    "key = f\"&apiKey={api_key}\"\n",
    "\n",
    "recipes = []\n",
    "\n",
    "params = \"79639\"\n",
    "response = s.get(url_base + params + url_tail + key).json()\n",
    "\n",
    "for x in response:    \n",
    "   recipes.append(x)\n",
    "\n",
    "pprint(recipes)"
   ]
  },
  {
   "cell_type": "code",
   "execution_count": 35,
   "metadata": {},
   "outputs": [
    {
     "ename": "TypeError",
     "evalue": "string indices must be integers",
     "output_type": "error",
     "traceback": [
      "\u001b[1;31m---------------------------------------------------------------------------\u001b[0m",
      "\u001b[1;31mTypeError\u001b[0m                                 Traceback (most recent call last)",
      "\u001b[1;32m<ipython-input-35-a770d9c33a5b>\u001b[0m in \u001b[0;36m<module>\u001b[1;34m\u001b[0m\n\u001b[0;32m      2\u001b[0m \u001b[1;33m\u001b[0m\u001b[0m\n\u001b[0;32m      3\u001b[0m \u001b[1;32mfor\u001b[0m \u001b[0mr\u001b[0m \u001b[1;32min\u001b[0m \u001b[0mrecipes\u001b[0m\u001b[1;33m:\u001b[0m\u001b[1;33m\u001b[0m\u001b[1;33m\u001b[0m\u001b[0m\n\u001b[1;32m----> 4\u001b[1;33m     \u001b[0mTitle\u001b[0m\u001b[1;33m.\u001b[0m\u001b[0mappend\u001b[0m\u001b[1;33m(\u001b[0m\u001b[1;33m[\u001b[0m\u001b[0mr\u001b[0m\u001b[1;33m[\u001b[0m\u001b[1;34m'title'\u001b[0m\u001b[1;33m]\u001b[0m \u001b[1;32mfor\u001b[0m \u001b[0mr\u001b[0m \u001b[1;32min\u001b[0m \u001b[0mrecipes\u001b[0m\u001b[1;33m]\u001b[0m\u001b[1;33m)\u001b[0m\u001b[1;33m\u001b[0m\u001b[1;33m\u001b[0m\u001b[0m\n\u001b[0m\u001b[0;32m      5\u001b[0m \u001b[1;33m\u001b[0m\u001b[0m\n\u001b[0;32m      6\u001b[0m \u001b[0mpprint\u001b[0m\u001b[1;33m(\u001b[0m\u001b[0mTitle\u001b[0m\u001b[1;33m)\u001b[0m\u001b[1;33m\u001b[0m\u001b[1;33m\u001b[0m\u001b[0m\n",
      "\u001b[1;32m<ipython-input-35-a770d9c33a5b>\u001b[0m in \u001b[0;36m<listcomp>\u001b[1;34m(.0)\u001b[0m\n\u001b[0;32m      2\u001b[0m \u001b[1;33m\u001b[0m\u001b[0m\n\u001b[0;32m      3\u001b[0m \u001b[1;32mfor\u001b[0m \u001b[0mr\u001b[0m \u001b[1;32min\u001b[0m \u001b[0mrecipes\u001b[0m\u001b[1;33m:\u001b[0m\u001b[1;33m\u001b[0m\u001b[1;33m\u001b[0m\u001b[0m\n\u001b[1;32m----> 4\u001b[1;33m     \u001b[0mTitle\u001b[0m\u001b[1;33m.\u001b[0m\u001b[0mappend\u001b[0m\u001b[1;33m(\u001b[0m\u001b[1;33m[\u001b[0m\u001b[0mr\u001b[0m\u001b[1;33m[\u001b[0m\u001b[1;34m'title'\u001b[0m\u001b[1;33m]\u001b[0m \u001b[1;32mfor\u001b[0m \u001b[0mr\u001b[0m \u001b[1;32min\u001b[0m \u001b[0mrecipes\u001b[0m\u001b[1;33m]\u001b[0m\u001b[1;33m)\u001b[0m\u001b[1;33m\u001b[0m\u001b[1;33m\u001b[0m\u001b[0m\n\u001b[0m\u001b[0;32m      5\u001b[0m \u001b[1;33m\u001b[0m\u001b[0m\n\u001b[0;32m      6\u001b[0m \u001b[0mpprint\u001b[0m\u001b[1;33m(\u001b[0m\u001b[0mTitle\u001b[0m\u001b[1;33m)\u001b[0m\u001b[1;33m\u001b[0m\u001b[1;33m\u001b[0m\u001b[0m\n",
      "\u001b[1;31mTypeError\u001b[0m: string indices must be integers"
     ]
    }
   ],
   "source": [
    "Title = []\n",
    "\n",
    "for r in recipes:\n",
    "    Title.append([r['title'] for r in recipes])\n",
    "    \n",
    "pprint(Title)"
   ]
  },
  {
   "cell_type": "code",
   "execution_count": null,
   "metadata": {},
   "outputs": [],
   "source": [
    "s = requests.Session()\n",
    "response = s.get(recipe_query).json()\n",
    "## pretty print the response \n",
    "pprint(response)\n",
    "# response"
   ]
  },
  {
   "cell_type": "code",
   "execution_count": 47,
   "metadata": {},
   "outputs": [
    {
     "data": {
      "text/html": [
       "<div>\n",
       "<style scoped>\n",
       "    .dataframe tbody tr th:only-of-type {\n",
       "        vertical-align: middle;\n",
       "    }\n",
       "\n",
       "    .dataframe tbody tr th {\n",
       "        vertical-align: top;\n",
       "    }\n",
       "\n",
       "    .dataframe thead th {\n",
       "        text-align: right;\n",
       "    }\n",
       "</style>\n",
       "<table border=\"1\" class=\"dataframe\">\n",
       "  <thead>\n",
       "    <tr style=\"text-align: right;\">\n",
       "      <th></th>\n",
       "      <th>Recipe_ID</th>\n",
       "    </tr>\n",
       "  </thead>\n",
       "  <tbody>\n",
       "  </tbody>\n",
       "</table>\n",
       "</div>"
      ],
      "text/plain": [
       "Empty DataFrame\n",
       "Columns: [Recipe_ID]\n",
       "Index: []"
      ]
     },
     "execution_count": 47,
     "metadata": {},
     "output_type": "execute_result"
    }
   ],
   "source": [
    "# create empty dataframe to collect dish pairings from list of wines \n",
    "columns = ['Recipe_ID']\n",
    "recipe_df = pd.DataFrame(columns=columns)\n",
    "recipe_df\n",
    "# dish_pairing_df['wine'] = wine_selections\n",
    "# dish_pairing_df"
   ]
  },
  {
   "cell_type": "code",
   "execution_count": 48,
   "metadata": {},
   "outputs": [
    {
     "data": {
      "text/plain": [
       "[92605, 59934, 92789, 81887, 34486]"
      ]
     },
     "execution_count": 48,
     "metadata": {},
     "output_type": "execute_result"
    }
   ],
   "source": [
    "recipe_num= [random.randrange(1,200000,1) for i in range(5)]\n",
    "recipe_num"
   ]
  },
  {
   "cell_type": "code",
   "execution_count": 49,
   "metadata": {},
   "outputs": [
    {
     "data": {
      "text/html": [
       "<div>\n",
       "<style scoped>\n",
       "    .dataframe tbody tr th:only-of-type {\n",
       "        vertical-align: middle;\n",
       "    }\n",
       "\n",
       "    .dataframe tbody tr th {\n",
       "        vertical-align: top;\n",
       "    }\n",
       "\n",
       "    .dataframe thead th {\n",
       "        text-align: right;\n",
       "    }\n",
       "</style>\n",
       "<table border=\"1\" class=\"dataframe\">\n",
       "  <thead>\n",
       "    <tr style=\"text-align: right;\">\n",
       "      <th></th>\n",
       "      <th>Recipe_ID</th>\n",
       "    </tr>\n",
       "  </thead>\n",
       "  <tbody>\n",
       "    <tr>\n",
       "      <th>0</th>\n",
       "      <td>92605</td>\n",
       "    </tr>\n",
       "    <tr>\n",
       "      <th>1</th>\n",
       "      <td>59934</td>\n",
       "    </tr>\n",
       "    <tr>\n",
       "      <th>2</th>\n",
       "      <td>92789</td>\n",
       "    </tr>\n",
       "    <tr>\n",
       "      <th>3</th>\n",
       "      <td>81887</td>\n",
       "    </tr>\n",
       "    <tr>\n",
       "      <th>4</th>\n",
       "      <td>34486</td>\n",
       "    </tr>\n",
       "  </tbody>\n",
       "</table>\n",
       "</div>"
      ],
      "text/plain": [
       "   Recipe_ID\n",
       "0      92605\n",
       "1      59934\n",
       "2      92789\n",
       "3      81887\n",
       "4      34486"
      ]
     },
     "execution_count": 49,
     "metadata": {},
     "output_type": "execute_result"
    }
   ],
   "source": [
    "recipe_df['Recipe_ID'] = recipe_num\n",
    "recipe_df\n"
   ]
  },
  {
   "cell_type": "code",
   "execution_count": 50,
   "metadata": {},
   "outputs": [
    {
     "data": {
      "text/html": [
       "<div>\n",
       "<style scoped>\n",
       "    .dataframe tbody tr th:only-of-type {\n",
       "        vertical-align: middle;\n",
       "    }\n",
       "\n",
       "    .dataframe tbody tr th {\n",
       "        vertical-align: top;\n",
       "    }\n",
       "\n",
       "    .dataframe thead th {\n",
       "        text-align: right;\n",
       "    }\n",
       "</style>\n",
       "<table border=\"1\" class=\"dataframe\">\n",
       "  <thead>\n",
       "    <tr style=\"text-align: right;\">\n",
       "      <th></th>\n",
       "      <th>Recipe_ID</th>\n",
       "      <th>Spoon_ID</th>\n",
       "      <th>Title</th>\n",
       "      <th>PrepTime</th>\n",
       "      <th>Summary</th>\n",
       "      <th>CaloricBreakdown</th>\n",
       "      <th>Servings</th>\n",
       "      <th>Likes</th>\n",
       "      <th>SourceURL</th>\n",
       "      <th>ImageURL</th>\n",
       "      <th>WinePairing</th>\n",
       "      <th>WineDescription</th>\n",
       "    </tr>\n",
       "  </thead>\n",
       "  <tbody>\n",
       "    <tr>\n",
       "      <th>0</th>\n",
       "      <td>92605</td>\n",
       "      <td></td>\n",
       "      <td></td>\n",
       "      <td></td>\n",
       "      <td></td>\n",
       "      <td></td>\n",
       "      <td></td>\n",
       "      <td></td>\n",
       "      <td></td>\n",
       "      <td></td>\n",
       "      <td></td>\n",
       "      <td></td>\n",
       "    </tr>\n",
       "    <tr>\n",
       "      <th>1</th>\n",
       "      <td>59934</td>\n",
       "      <td></td>\n",
       "      <td></td>\n",
       "      <td></td>\n",
       "      <td></td>\n",
       "      <td></td>\n",
       "      <td></td>\n",
       "      <td></td>\n",
       "      <td></td>\n",
       "      <td></td>\n",
       "      <td></td>\n",
       "      <td></td>\n",
       "    </tr>\n",
       "    <tr>\n",
       "      <th>2</th>\n",
       "      <td>92789</td>\n",
       "      <td></td>\n",
       "      <td></td>\n",
       "      <td></td>\n",
       "      <td></td>\n",
       "      <td></td>\n",
       "      <td></td>\n",
       "      <td></td>\n",
       "      <td></td>\n",
       "      <td></td>\n",
       "      <td></td>\n",
       "      <td></td>\n",
       "    </tr>\n",
       "    <tr>\n",
       "      <th>3</th>\n",
       "      <td>81887</td>\n",
       "      <td></td>\n",
       "      <td></td>\n",
       "      <td></td>\n",
       "      <td></td>\n",
       "      <td></td>\n",
       "      <td></td>\n",
       "      <td></td>\n",
       "      <td></td>\n",
       "      <td></td>\n",
       "      <td></td>\n",
       "      <td></td>\n",
       "    </tr>\n",
       "    <tr>\n",
       "      <th>4</th>\n",
       "      <td>34486</td>\n",
       "      <td></td>\n",
       "      <td></td>\n",
       "      <td></td>\n",
       "      <td></td>\n",
       "      <td></td>\n",
       "      <td></td>\n",
       "      <td></td>\n",
       "      <td></td>\n",
       "      <td></td>\n",
       "      <td></td>\n",
       "      <td></td>\n",
       "    </tr>\n",
       "  </tbody>\n",
       "</table>\n",
       "</div>"
      ],
      "text/plain": [
       "   Recipe_ID Spoon_ID Title PrepTime Summary CaloricBreakdown Servings Likes  \\\n",
       "0      92605                                                                   \n",
       "1      59934                                                                   \n",
       "2      92789                                                                   \n",
       "3      81887                                                                   \n",
       "4      34486                                                                   \n",
       "\n",
       "  SourceURL ImageURL WinePairing WineDescription  \n",
       "0                                                 \n",
       "1                                                 \n",
       "2                                                 \n",
       "3                                                 \n",
       "4                                                 "
      ]
     },
     "execution_count": 50,
     "metadata": {},
     "output_type": "execute_result"
    }
   ],
   "source": [
    "recipe_df['Spoon_ID'] = ''\n",
    "recipe_df['Title'] = ''\n",
    "recipe_df['PrepTime'] = ''\n",
    "recipe_df['Summary'] = ''\n",
    "recipe_df['CaloricBreakdown'] = ''\n",
    "recipe_df['Servings'] = ''\n",
    "recipe_df['Likes'] = ''\n",
    "recipe_df['SourceURL'] = ''\n",
    "recipe_df['ImageURL'] = ''\n",
    "recipe_df['WinePairing'] = ''\n",
    "recipe_df['WineDescription'] = ''\n",
    "recipe_df"
   ]
  },
  {
   "cell_type": "code",
   "execution_count": 51,
   "metadata": {},
   "outputs": [],
   "source": [
    "url_base = f\"https://api.spoonacular.com/recipes/\"\n",
    "url_tail = \"/information?includeNutrition=true\"\n",
    "key = f\"&apiKey={api_key}\"\n",
    "\n",
    "# recipe_query = f\"{url_base}{meal_id}{recipe_url_tail}&apiKey={key}\"\n",
    "\n",
    "s = requests.Session()\n",
    "# response = s.get(recipe_query).json()\n",
    "# response"
   ]
  },
  {
   "cell_type": "code",
   "execution_count": 52,
   "metadata": {},
   "outputs": [],
   "source": [
    "for index, row in recipe_df.iterrows():\n",
    "    meal_id = row['Recipe_ID']\n",
    "    params = f'{meal_id}'\n",
    "\n",
    "    response = s.get(url_base + params + url_tail + key).json()  \n",
    "    \n",
    "    try:\n",
    "        recipe_df.loc[index,\"Spoon_ID\"] = response['id']\n",
    "        recipe_df.loc[index,\"Title\"] = response['title']\n",
    "        recipe_df.loc[index,\"PrepTime\"] = response['readyInMinutes']\n",
    "        recipe_df.loc[index,\"Summary\"] = response['summary']\n",
    "#         recipe_df.loc[index,\"CaloricBreakdown\"] = response['nutrition']['caloricBreakdown']\n",
    "#         recipe_df.loc[index,\"Servings\"] = response['servings']\n",
    "#         recipe_df.loc[index,\"Likes\"] = response['aggregateLikes']\n",
    "#         recipe_df.loc[index,\"SourceURL\"] = response['sourceURL']\n",
    "#         recipe_df.loc[index,\"ImageURL\"] = response['image']\n",
    "#         recipe_df.loc[index,\"WinePairing\"] = response['winePairing']['pairedWines']\n",
    "#         recipe_df.loc[index,\"WineDescription\"] = response['winePairing']['pairingText']\n",
    "   "
   ]
  },
  {
   "cell_type": "code",
   "execution_count": 52,
   "metadata": {},
   "outputs": [],
   "source": [
    " except (KeyError, IndexError, ValueError):\n",
    "        recipe_df.loc[index,\"Spoon_ID\"] = \"ID does not exist\"\n",
    "        recipe_df.loc[index,\"Title\"] = \"no title available\"\n",
    "        recipe_df.loc[index,\"PrepTime\"] = \"no prep time available\"\n",
    "        recipe_df.loc[index,\"Summary\"] = \"no summary avaialble\"\n",
    "#         recipe_df.loc[index,\"CaloricBreakdown\"] = \"no calorie information available\"\n",
    "#         recipe_df.loc[index,\"Servings\"] = \"no servings available\"\n",
    "#         recipe_df.loc[index,\"Likes\"] = \"noone likes this dish\"\n",
    "#         recipe_df.loc[index,\"SourceURL\"] = \"no source URL available\"\n",
    "#         recipe_df.loc[index,\"ImageURL\"] = \"no image URL available\"\n",
    "#         recipe_df.loc[index,\"WinePairing\"] = \"no wine pairing available\"\n",
    "#         recipe_df.loc[index,\"WineDescription\"] = \"no wine description available\""
   ]
  },
  {
   "cell_type": "code",
   "execution_count": 53,
   "metadata": {},
   "outputs": [
    {
     "data": {
      "text/html": [
       "<div>\n",
       "<style scoped>\n",
       "    .dataframe tbody tr th:only-of-type {\n",
       "        vertical-align: middle;\n",
       "    }\n",
       "\n",
       "    .dataframe tbody tr th {\n",
       "        vertical-align: top;\n",
       "    }\n",
       "\n",
       "    .dataframe thead th {\n",
       "        text-align: right;\n",
       "    }\n",
       "</style>\n",
       "<table border=\"1\" class=\"dataframe\">\n",
       "  <thead>\n",
       "    <tr style=\"text-align: right;\">\n",
       "      <th></th>\n",
       "      <th>Recipe_ID</th>\n",
       "      <th>Spoon_ID</th>\n",
       "      <th>Title</th>\n",
       "      <th>PrepTime</th>\n",
       "      <th>Summary</th>\n",
       "      <th>CaloricBreakdown</th>\n",
       "      <th>Servings</th>\n",
       "      <th>Likes</th>\n",
       "      <th>SourceURL</th>\n",
       "      <th>ImageURL</th>\n",
       "      <th>WinePairing</th>\n",
       "      <th>WineDescription</th>\n",
       "    </tr>\n",
       "  </thead>\n",
       "  <tbody>\n",
       "    <tr>\n",
       "      <th>0</th>\n",
       "      <td>92605</td>\n",
       "      <td>92605</td>\n",
       "      <td>Cheesy Fried Brussels Sprouts</td>\n",
       "      <td>45</td>\n",
       "      <td>You can never have too many main course recipe...</td>\n",
       "      <td></td>\n",
       "      <td></td>\n",
       "      <td></td>\n",
       "      <td></td>\n",
       "      <td></td>\n",
       "      <td></td>\n",
       "      <td></td>\n",
       "    </tr>\n",
       "    <tr>\n",
       "      <th>1</th>\n",
       "      <td>59934</td>\n",
       "      <td>59934</td>\n",
       "      <td>Seriously Asian: Caramel Sauce</td>\n",
       "      <td>1788</td>\n",
       "      <td>You can never have too many sauce recipes, so ...</td>\n",
       "      <td></td>\n",
       "      <td></td>\n",
       "      <td></td>\n",
       "      <td></td>\n",
       "      <td></td>\n",
       "      <td></td>\n",
       "      <td></td>\n",
       "    </tr>\n",
       "    <tr>\n",
       "      <th>2</th>\n",
       "      <td>92789</td>\n",
       "      <td>ID does not exist</td>\n",
       "      <td>no title available</td>\n",
       "      <td>no prep time available</td>\n",
       "      <td>no summary avaialble</td>\n",
       "      <td></td>\n",
       "      <td></td>\n",
       "      <td></td>\n",
       "      <td></td>\n",
       "      <td></td>\n",
       "      <td></td>\n",
       "      <td></td>\n",
       "    </tr>\n",
       "    <tr>\n",
       "      <th>3</th>\n",
       "      <td>81887</td>\n",
       "      <td>81887</td>\n",
       "      <td>Pancetta-wrapped Pork Roast</td>\n",
       "      <td>70</td>\n",
       "      <td>You can never have too many main course recipe...</td>\n",
       "      <td></td>\n",
       "      <td></td>\n",
       "      <td></td>\n",
       "      <td></td>\n",
       "      <td></td>\n",
       "      <td></td>\n",
       "      <td></td>\n",
       "    </tr>\n",
       "    <tr>\n",
       "      <th>4</th>\n",
       "      <td>34486</td>\n",
       "      <td>34486</td>\n",
       "      <td>Stir-Fried Noodles and Pork</td>\n",
       "      <td>35</td>\n",
       "      <td>Need a &lt;b&gt;dairy free main course&lt;/b&gt;? Stir-Fri...</td>\n",
       "      <td></td>\n",
       "      <td></td>\n",
       "      <td></td>\n",
       "      <td></td>\n",
       "      <td></td>\n",
       "      <td></td>\n",
       "      <td></td>\n",
       "    </tr>\n",
       "  </tbody>\n",
       "</table>\n",
       "</div>"
      ],
      "text/plain": [
       "   Recipe_ID           Spoon_ID                           Title  \\\n",
       "0      92605              92605   Cheesy Fried Brussels Sprouts   \n",
       "1      59934              59934  Seriously Asian: Caramel Sauce   \n",
       "2      92789  ID does not exist              no title available   \n",
       "3      81887              81887     Pancetta-wrapped Pork Roast   \n",
       "4      34486              34486     Stir-Fried Noodles and Pork   \n",
       "\n",
       "                 PrepTime                                            Summary  \\\n",
       "0                      45  You can never have too many main course recipe...   \n",
       "1                    1788  You can never have too many sauce recipes, so ...   \n",
       "2  no prep time available                               no summary avaialble   \n",
       "3                      70  You can never have too many main course recipe...   \n",
       "4                      35  Need a <b>dairy free main course</b>? Stir-Fri...   \n",
       "\n",
       "  CaloricBreakdown Servings Likes SourceURL ImageURL WinePairing  \\\n",
       "0                                                                  \n",
       "1                                                                  \n",
       "2                                                                  \n",
       "3                                                                  \n",
       "4                                                                  \n",
       "\n",
       "  WineDescription  \n",
       "0                  \n",
       "1                  \n",
       "2                  \n",
       "3                  \n",
       "4                  "
      ]
     },
     "execution_count": 53,
     "metadata": {},
     "output_type": "execute_result"
    }
   ],
   "source": [
    "recipe_df"
   ]
  },
  {
   "cell_type": "code",
   "execution_count": null,
   "metadata": {},
   "outputs": [],
   "source": []
  }
 ],
 "metadata": {
  "kernelspec": {
   "display_name": "Python 3",
   "language": "python",
   "name": "python3"
  },
  "language_info": {
   "codemirror_mode": {
    "name": "ipython",
    "version": 3
   },
   "file_extension": ".py",
   "mimetype": "text/x-python",
   "name": "python",
   "nbconvert_exporter": "python",
   "pygments_lexer": "ipython3",
   "version": "3.7.6"
  }
 },
 "nbformat": 4,
 "nbformat_minor": 4
}
