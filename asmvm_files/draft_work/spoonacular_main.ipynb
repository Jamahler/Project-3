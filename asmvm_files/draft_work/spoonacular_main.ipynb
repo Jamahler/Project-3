{
 "cells": [
  {
   "cell_type": "code",
   "execution_count": 5,
   "metadata": {},
   "outputs": [],
   "source": [
    "import json, requests\n",
    "from pprint import pprint\n",
    "import pandas as pd\n",
    "from config import api_key\n",
    "import numpy as np\n",
    "import random\n",
    "import pymongo"
   ]
  },
  {
   "cell_type": "code",
   "execution_count": 6,
   "metadata": {},
   "outputs": [
    {
     "name": "stdout",
     "output_type": "stream",
     "text": [
      "10000\n",
      "9983\n"
     ]
    }
   ],
   "source": [
    "# build a list of random ID numbers to fetch a variety of recipes from API call \n",
    "# this was done because consecutive ID numbers retrieves recipes of the same main ingredient\n",
    "recipe_num= [random.randrange(1,2000000,1) for i in range(10000)]\n",
    "recipe_num\n",
    "print(len(recipe_num))\n",
    "res = []\n",
    "[res.append(x) for x in recipe_num if x not in res]\n",
    "print(len(res))"
   ]
  },
  {
   "cell_type": "code",
   "execution_count": 16,
   "metadata": {},
   "outputs": [
    {
     "data": {
      "text/plain": [
       "1"
      ]
     },
     "execution_count": 16,
     "metadata": {},
     "output_type": "execute_result"
    }
   ],
   "source": [
    "# create a function that divides the recipe id list 'res' into sets of 150 for API calls\n",
    "def divide_list(l, n): \n",
    "    \n",
    "    # looping till length l \n",
    "    for i in range(0, len(l), n):  \n",
    "        yield l[i:i + n] \n",
    "\n",
    "n = 150  \n",
    "x = list(divide_list(res, n)) \n",
    "\n",
    "recipe_list_1 = x[0:1]\n",
    "# recipe_list_2 = x[1]\n",
    "# recipe_list_3 = x[2]\n",
    "# recipe_list_4 = x[3]\n",
    "\n",
    "\n",
    "# full_list = recipe_list_1 + recipe_list_2 + recipe_list_3 + recipe_list_4\n",
    "# full_list"
   ]
  },
  {
   "cell_type": "code",
   "execution_count": null,
   "metadata": {},
   "outputs": [],
   "source": []
  },
  {
   "cell_type": "code",
   "execution_count": null,
   "metadata": {},
   "outputs": [],
   "source": []
  },
  {
   "cell_type": "code",
   "execution_count": null,
   "metadata": {},
   "outputs": [],
   "source": [
    "data = []\n",
    "# data_2 = []\n",
    "import numpy as np\n",
    "import time\n",
    "# Recipe Dataframe Components\n",
    "rec_data_comps = ['id', 'title', 'readyInMinutes', 'nutrition>caloricBreakdown>percentProtein', 'nutrition>caloricBreakdown>percentFat','nutrition>caloricBreakdown>percentCarbs','nutrition'>'nutrients','servings','image','sourceUrl','summary',\n",
    "                  'aggregateLikes','spoonacularScore','winePairing>pairedWines', 'winePairing>pairingText']\n",
    "def rec_comp_check(comp, recipe_data):\n",
    "    try:\n",
    "        comp_path = comp.split(\">\")\n",
    "        for c in comp_path:\n",
    "            recipe_data = recipe_data[c]\n",
    "        datum = recipe_data\n",
    "    except:\n",
    "        datum = np.nan\n",
    "    return datum\n",
    "for num in full_list: # may need to fix what you iterate over\n",
    "\n",
    "    params = f'{num}'\n",
    "    response = s.get(url_base + params + url_tail + key)\n",
    "    if response.status_code == 200:\n",
    "        recipe_data = response.json()\n",
    "        my_big_dict ={\"My ID\": num}\n",
    "        for comp in rec_data_comps:\n",
    "            my_big_dict[comp] = rec_comp_check(comp, recipe_data)\n",
    "        data.append(my_big_dict)\n",
    "    else:\n",
    "        print(f'{num} failed to return a good API response')\n",
    "        print(response)\n",
    "\n",
    "receipe_data = data \n",
    "# pd.DataFrame(data)"
   ]
  }
 ],
 "metadata": {
  "kernelspec": {
   "display_name": "Python 3",
   "language": "python",
   "name": "python3"
  },
  "language_info": {
   "codemirror_mode": {
    "name": "ipython",
    "version": 3
   },
   "file_extension": ".py",
   "mimetype": "text/x-python",
   "name": "python",
   "nbconvert_exporter": "python",
   "pygments_lexer": "ipython3",
   "version": "3.7.6"
  }
 },
 "nbformat": 4,
 "nbformat_minor": 4
}
