{
 "cells": [
  {
   "cell_type": "code",
   "execution_count": 5,
   "metadata": {},
   "outputs": [],
   "source": [
    "import requests\n",
    "import pandas as pd\n",
    "\n",
    "wine_csv = \"Wine CSV.csv\"\n",
    "\n",
    "api_key = \"1710a2cab6b2491eae1d09d79ada0a7a\"\n",
    "\n",
    "url = \"https://api.spoonacular.com/food/wine/dishes?apiKey=\" + api_key + \"&wine=\" \n",
    "\n",
    "wines = []\n",
    "\n",
    "text = []\n",
    "\n",
    "pairings = []\n",
    "\n",
    "wine_dict = {\"wines\": wines, \"text\": text, \"pairings\": pairings}\n",
    "\n"
   ]
  },
  {
   "cell_type": "code",
   "execution_count": 6,
   "metadata": {},
   "outputs": [
    {
     "name": "stdout",
     "output_type": "stream",
     "text": [
      "               wine\n",
      "0        white_wine\n",
      "1    dry_white_wine\n",
      "2         assyrtiko\n",
      "3       pinot_blanc\n",
      "4           cortese\n",
      "..              ...\n",
      "104      dry_sherry\n",
      "105        vermouth\n",
      "106    dry_vermouth\n",
      "107      fruit_wine\n",
      "108            mead\n",
      "\n",
      "[109 rows x 1 columns]\n"
     ]
    }
   ],
   "source": [
    "wines_data = pd.read_csv(wine_csv)\n",
    "print(wines_data)"
   ]
  },
  {
   "cell_type": "code",
   "execution_count": 7,
   "metadata": {},
   "outputs": [
    {
     "name": "stdout",
     "output_type": "stream",
     "text": [
      "0          white_wine\n",
      "1      dry_white_wine\n",
      "2           assyrtiko\n",
      "3         pinot_blanc\n",
      "4             cortese\n",
      "            ...      \n",
      "104        dry_sherry\n",
      "105          vermouth\n",
      "106      dry_vermouth\n",
      "107        fruit_wine\n",
      "108              mead\n",
      "Name: wine, Length: 109, dtype: object\n"
     ]
    }
   ],
   "source": [
    "wines = wines_data[\"wine\"]\n",
    "print(wines)"
   ]
  },
  {
   "cell_type": "code",
   "execution_count": 8,
   "metadata": {},
   "outputs": [
    {
     "name": "stdout",
     "output_type": "stream",
     "text": [
      "Success\n",
      "Success\n",
      "Success\n",
      "No Pairings\n",
      "No Pairings\n",
      "No Pairings\n",
      "Success\n",
      "Success\n",
      "Success\n",
      "Success\n",
      "No Pairings\n",
      "No Pairings\n",
      "Success\n",
      "Success\n",
      "Success\n",
      "No Pairings\n",
      "Success\n",
      "Success\n",
      "No Pairings\n",
      "Success\n",
      "No Pairings\n",
      "No Pairings\n",
      "No Pairings\n",
      "No Pairings\n",
      "No Pairings\n",
      "No Pairings\n",
      "No Pairings\n",
      "No Pairings\n",
      "No Pairings\n",
      "No Pairings\n",
      "No Pairings\n",
      "No Pairings\n",
      "No Pairings\n",
      "No Pairings\n",
      "No Pairings\n",
      "No Pairings\n",
      "No Pairings\n",
      "No Pairings\n",
      "No Pairings\n",
      "No Pairings\n",
      "No Pairings\n",
      "No Pairings\n",
      "No Pairings\n",
      "No Pairings\n",
      "No Pairings\n",
      "No Pairings\n",
      "No Pairings\n",
      "No Pairings\n",
      "No Pairings\n",
      "No Pairings\n",
      "No Pairings\n",
      "No Pairings\n",
      "No Pairings\n",
      "No Pairings\n",
      "No Pairings\n",
      "No Pairings\n",
      "No Pairings\n",
      "No Pairings\n",
      "No Pairings\n",
      "No Pairings\n",
      "No Pairings\n",
      "No Pairings\n",
      "No Pairings\n",
      "No Pairings\n",
      "No Pairings\n",
      "No Pairings\n",
      "No Pairings\n",
      "No Pairings\n",
      "No Pairings\n",
      "No Pairings\n",
      "No Pairings\n",
      "No Pairings\n",
      "No Pairings\n",
      "No Pairings\n",
      "No Pairings\n",
      "No Pairings\n",
      "No Pairings\n",
      "No Pairings\n",
      "No Pairings\n",
      "No Pairings\n",
      "No Pairings\n",
      "No Pairings\n",
      "No Pairings\n",
      "No Pairings\n",
      "No Pairings\n",
      "No Pairings\n",
      "No Pairings\n",
      "No Pairings\n",
      "No Pairings\n",
      "No Pairings\n",
      "No Pairings\n",
      "No Pairings\n",
      "No Pairings\n",
      "No Pairings\n",
      "No Pairings\n",
      "No Pairings\n",
      "No Pairings\n",
      "No Pairings\n",
      "No Pairings\n",
      "No Pairings\n",
      "No Pairings\n",
      "No Pairings\n",
      "No Pairings\n",
      "No Pairings\n",
      "No Pairings\n",
      "No Pairings\n",
      "No Pairings\n",
      "No Pairings\n",
      "No Pairings\n"
     ]
    }
   ],
   "source": [
    "for wine in wines:\n",
    "    try:\n",
    "        wine_data = requests.get(url + wine).json()\n",
    "        text.append(wine_data['text'])\n",
    "        pairings.append(wine_data['pairings'])\n",
    "        print(\"Success\")\n",
    "    except KeyError:\n",
    "        print(\"No Pairings\")"
   ]
  },
  {
   "cell_type": "code",
   "execution_count": 9,
   "metadata": {},
   "outputs": [
    {
     "data": {
      "text/plain": [
       "13"
      ]
     },
     "execution_count": 9,
     "metadata": {},
     "output_type": "execute_result"
    }
   ],
   "source": [
    "len(pairings)"
   ]
  },
  {
   "cell_type": "code",
   "execution_count": 45,
   "metadata": {},
   "outputs": [],
   "source": [
    "wine_df = pd.DataFrame(wine_dict)"
   ]
  },
  {
   "cell_type": "code",
   "execution_count": 46,
   "metadata": {},
   "outputs": [
    {
     "data": {
      "text/html": [
       "<div>\n",
       "<style scoped>\n",
       "    .dataframe tbody tr th:only-of-type {\n",
       "        vertical-align: middle;\n",
       "    }\n",
       "\n",
       "    .dataframe tbody tr th {\n",
       "        vertical-align: top;\n",
       "    }\n",
       "\n",
       "    .dataframe thead th {\n",
       "        text-align: right;\n",
       "    }\n",
       "</style>\n",
       "<table border=\"1\" class=\"dataframe\">\n",
       "  <thead>\n",
       "    <tr style=\"text-align: right;\">\n",
       "      <th></th>\n",
       "      <th>wines</th>\n",
       "      <th>text</th>\n",
       "      <th>pairings</th>\n",
       "    </tr>\n",
       "  </thead>\n",
       "  <tbody>\n",
       "    <tr>\n",
       "      <th>0</th>\n",
       "      <td>cabernet_sauvignon</td>\n",
       "      <td>Cabernet Sauvignon is a dry red wine which is ...</td>\n",
       "      <td>steak</td>\n",
       "    </tr>\n",
       "  </tbody>\n",
       "</table>\n",
       "</div>"
      ],
      "text/plain": [
       "                wines                                               text  \\\n",
       "0  cabernet_sauvignon  Cabernet Sauvignon is a dry red wine which is ...   \n",
       "\n",
       "  pairings  \n",
       "0    steak  "
      ]
     },
     "execution_count": 46,
     "metadata": {},
     "output_type": "execute_result"
    }
   ],
   "source": [
    "wine_df"
   ]
  },
  {
   "cell_type": "code",
   "execution_count": 47,
   "metadata": {},
   "outputs": [],
   "source": [
    "wine_dict_1 = dict(zip(pairings, text))"
   ]
  },
  {
   "cell_type": "code",
   "execution_count": 48,
   "metadata": {},
   "outputs": [
    {
     "data": {
      "text/plain": [
       "{'steak': 'Cabernet Sauvignon is a dry red wine which is bold and full bodied. It goes especially well with stew, steak, chili, jjigae, and cholent.'}"
      ]
     },
     "execution_count": 48,
     "metadata": {},
     "output_type": "execute_result"
    }
   ],
   "source": [
    "wine_dict_1"
   ]
  },
  {
   "cell_type": "code",
   "execution_count": null,
   "metadata": {},
   "outputs": [],
   "source": []
  }
 ],
 "metadata": {
  "kernelspec": {
   "display_name": "Python 3",
   "language": "python",
   "name": "python3"
  },
  "language_info": {
   "codemirror_mode": {
    "name": "ipython",
    "version": 3
   },
   "file_extension": ".py",
   "mimetype": "text/x-python",
   "name": "python",
   "nbconvert_exporter": "python",
   "pygments_lexer": "ipython3",
   "version": "3.7.6"
  }
 },
 "nbformat": 4,
 "nbformat_minor": 4
}
